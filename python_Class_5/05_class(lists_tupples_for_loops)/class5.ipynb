{
 "cells": [
  {
   "cell_type": "markdown",
   "metadata": {},
   "source": [
    "## list \n",
    "* iteration operation with loops\n",
    "* apply any operation in element\n"
   ]
  },
  {
   "cell_type": "code",
   "execution_count": 22,
   "metadata": {},
   "outputs": [
    {
     "name": "stdout",
     "output_type": "stream",
     "text": [
      "['prince', 'taha', 'dhuruv', 'razak']\n"
     ]
    }
   ],
   "source": [
    "names : list[str] = [\"prince\", \"taha\", \"dhuruv\", \"razak\"]\n",
    "print(names)"
   ]
  },
  {
   "cell_type": "code",
   "execution_count": 23,
   "metadata": {},
   "outputs": [
    {
     "name": "stdout",
     "output_type": "stream",
     "text": [
      "prince\n",
      "taha\n",
      "dhuruv\n",
      "razak\n"
     ]
    }
   ],
   "source": [
    "names : list[str] = [\"prince\", \"taha\", \"dhuruv\", \"razak\"]\n",
    "\n",
    "for name in names:\n",
    "    print(name)"
   ]
  },
  {
   "cell_type": "code",
   "execution_count": null,
   "metadata": {},
   "outputs": [],
   "source": [
    "for name in names:\n",
    "    print(f'welcome dear friend {name.title()}')\n",
    "    print(\"friends forever\\n\")\n",
    "print(\"pakistan zindabad\") "
   ]
  },
  {
   "cell_type": "code",
   "execution_count": null,
   "metadata": {},
   "outputs": [],
   "source": [
    "data_base : list(str,str) = [(\"prince\" , \"345\"),\n",
    "                                    (\"taha\" , \"674\"),\n",
    "                                    (\"fahad\" , \"498\")]\n",
    "\n",
    "for row in data_base:\n",
    "    print(row)\n",
    "    "
   ]
  },
  {
   "cell_type": "code",
   "execution_count": 2,
   "metadata": {},
   "outputs": [
    {
     "name": "stdout",
     "output_type": "stream",
     "text": [
      "prince\n"
     ]
    }
   ],
   "source": [
    "input_user : str = input(\"Enter your name\")\n",
    "print(input_user)"
   ]
  },
  {
   "cell_type": "code",
   "execution_count": 2,
   "metadata": {},
   "outputs": [
    {
     "name": "stdout",
     "output_type": "stream",
     "text": [
      "Invalid User\n"
     ]
    }
   ],
   "source": [
    "data_base : list[(str,str)] = [(\"prince\",\"876\" ),\n",
    "                                    (\"taha\",\"564\"),\n",
    "                                    (\"fahad\",\"654\")\n",
    "                                    ]\n",
    "\n",
    "input_user : str = input(\"Enter your name\")\n",
    "input_password :str = input(\"Enter your password\")\n",
    "\n",
    "for row in data_base:\n",
    "    user,password = row\n",
    "    if input_user == user and input_password == password:\n",
    "        print(\"Valid User\")\n",
    "        break\n",
    "else:\n",
    "    print(\"Invalid User\")"
   ]
  },
  {
   "cell_type": "code",
   "execution_count": 30,
   "metadata": {},
   "outputs": [
    {
     "name": "stdout",
     "output_type": "stream",
     "text": [
      "['prince', '876', 'rafay']\n",
      "['prince', '876', 'rafay']\n",
      "['prince', '876', 'rafay']\n",
      "hello world\n"
     ]
    }
   ],
   "source": [
    "names : list[str] = [\"prince\",\"876\",\"rafay\"]\n",
    "\n",
    "for name in names:\n",
    "    print(names)\n",
    "else:\n",
    "    print(\"hello world\")"
   ]
  },
  {
   "cell_type": "code",
   "execution_count": 31,
   "metadata": {},
   "outputs": [
    {
     "name": "stdout",
     "output_type": "stream",
     "text": [
      "['prince', '876', 'rafay']\n"
     ]
    }
   ],
   "source": [
    "names : list[str] = [\"prince\",\"876\",\"rafay\"]\n",
    "\n",
    "for name in names:\n",
    "    print(names)\n",
    "    break\n",
    "else:\n",
    "    print(\"hello world\")"
   ]
  },
  {
   "cell_type": "code",
   "execution_count": 1,
   "metadata": {},
   "outputs": [
    {
     "name": "stdout",
     "output_type": "stream",
     "text": [
      "['prince', '876', 'rafay']\n",
      "hello world\n"
     ]
    }
   ],
   "source": [
    "names : list[str] = [\"prince\",\"876\",\"rafay\"]\n",
    "\n",
    "for name in names:\n",
    "    print(names)\n",
    "    break\n",
    "\n",
    "print(\"hello world\")"
   ]
  },
  {
   "cell_type": "code",
   "execution_count": 3,
   "metadata": {},
   "outputs": [
    {
     "name": "stdout",
     "output_type": "stream",
     "text": [
      "Alice, that was a great trick\n",
      "David, that was a great trick\n",
      "Carolina, that was a great trick\n",
      "I cant wait to see your next trick, Carolina.\n",
      "\n"
     ]
    }
   ],
   "source": [
    "magicians : list [str] = [\"alice\", \"david\", \"carolina\"]\n",
    "\n",
    "for magician in magicians :\n",
    "    print(f\"{magician.title()}, that was a great trick\" )\n",
    "\n",
    "print(f\"I cant wait to see your next trick, {magician.title()}.\\n\")"
   ]
  },
  {
   "cell_type": "code",
   "execution_count": 1,
   "metadata": {},
   "outputs": [
    {
     "name": "stdout",
     "output_type": "stream",
     "text": [
      "Alice, that was a great trick\n",
      "I cant wait to see your next trick, Alice.\n",
      "\n",
      "David, that was a great trick\n",
      "I cant wait to see your next trick, David.\n",
      "\n",
      "Carolina, that was a great trick\n",
      "I cant wait to see your next trick, Carolina.\n",
      "\n",
      "thank you everyone that was a great magic show !\n"
     ]
    }
   ],
   "source": [
    "magicians : list [str] = [\"alice\", \"david\", \"carolina\"]\n",
    "\n",
    "for magician in magicians:\n",
    "    print(f\"{magician.title()}, that was a great trick\")\n",
    "    print(f\"I cant wait to see your next trick, {magician.title()}.\\n\")\n",
    "\n",
    "print(\"thank you everyone that was a great magic show !\")\n",
    "\n",
    "\n"
   ]
  },
  {
   "cell_type": "markdown",
   "metadata": {},
   "source": [
    "## Number with loop\n",
    "* range(start, end, step)"
   ]
  },
  {
   "cell_type": "code",
   "execution_count": 3,
   "metadata": {},
   "outputs": [
    {
     "data": {
      "text/plain": [
       "range(0, 10)"
      ]
     },
     "execution_count": 3,
     "metadata": {},
     "output_type": "execute_result"
    }
   ],
   "source": [
    "range(10)"
   ]
  },
  {
   "cell_type": "code",
   "execution_count": 5,
   "metadata": {},
   "outputs": [
    {
     "data": {
      "text/plain": [
       "[0, 1, 2, 3, 4, 5, 6, 7, 8, 9]"
      ]
     },
     "execution_count": 5,
     "metadata": {},
     "output_type": "execute_result"
    }
   ],
   "source": [
    "list (range(10))"
   ]
  },
  {
   "cell_type": "code",
   "execution_count": 6,
   "metadata": {},
   "outputs": [
    {
     "data": {
      "text/plain": [
       "[2, 3, 4, 5, 6, 7, 8, 9]"
      ]
     },
     "execution_count": 6,
     "metadata": {},
     "output_type": "execute_result"
    }
   ],
   "source": [
    "list (range(2,10))"
   ]
  },
  {
   "cell_type": "code",
   "execution_count": 13,
   "metadata": {},
   "outputs": [
    {
     "data": {
      "text/plain": [
       "[2, 4, 6, 8, 10, 12, 14, 16, 18, 20]"
      ]
     },
     "execution_count": 13,
     "metadata": {},
     "output_type": "execute_result"
    }
   ],
   "source": [
    "list (range(2,21,2))"
   ]
  },
  {
   "cell_type": "code",
   "execution_count": 14,
   "metadata": {},
   "outputs": [
    {
     "name": "stdout",
     "output_type": "stream",
     "text": [
      "2\n",
      "4\n",
      "6\n",
      "8\n",
      "10\n",
      "12\n",
      "14\n",
      "16\n",
      "18\n",
      "20\n"
     ]
    }
   ],
   "source": [
    "for range in range (2,21,2):\n",
    "    print(range)\n"
   ]
  },
  {
   "cell_type": "code",
   "execution_count": 15,
   "metadata": {},
   "outputs": [
    {
     "data": {
      "text/plain": [
       "[(0, 'alice'), (1, 'david'), (2, 'carolina')]"
      ]
     },
     "execution_count": 15,
     "metadata": {},
     "output_type": "execute_result"
    }
   ],
   "source": [
    "magicians : list [str] = [\"alice\", \"david\", \"carolina\"]\n",
    "list (enumerate(magicians))"
   ]
  },
  {
   "cell_type": "code",
   "execution_count": 16,
   "metadata": {},
   "outputs": [
    {
     "name": "stdout",
     "output_type": "stream",
     "text": [
      "0 alice\n",
      "1 david\n",
      "2 carolina\n"
     ]
    }
   ],
   "source": [
    "magicians : list [str] = [\"alice\", \"david\", \"carolina\"]\n",
    "for index, name in enumerate(magicians):\n",
    "    print(index, name)"
   ]
  },
  {
   "cell_type": "code",
   "execution_count": 4,
   "metadata": {},
   "outputs": [
    {
     "name": "stdout",
     "output_type": "stream",
     "text": [
      "2\n",
      "3\n",
      "4\n",
      "5\n",
      "6\n",
      "7\n",
      "8\n",
      "9\n",
      "10\n"
     ]
    }
   ],
   "source": [
    "#  error\n",
    "for n in range(2, 11):\n",
    "    print(n)"
   ]
  },
  {
   "cell_type": "code",
   "execution_count": 5,
   "metadata": {},
   "outputs": [
    {
     "name": "stdout",
     "output_type": "stream",
     "text": [
      "2 X 1, 2\n",
      "2 X 2, 4\n",
      "2 X 3, 6\n",
      "2 X 4, 8\n",
      "2 X 5, 10\n",
      "2 X 6, 12\n",
      "2 X 7, 14\n",
      "2 X 8, 16\n",
      "2 X 9, 18\n",
      "2 X 10, 20\n"
     ]
    }
   ],
   "source": [
    "# error\n",
    "for n in range(1, 11):\n",
    "    print(f\"{2} X {n}, {n*2}\")"
   ]
  },
  {
   "cell_type": "code",
   "execution_count": null,
   "metadata": {},
   "outputs": [],
   "source": [
    "# error\n",
    "square:list[int] = []\n",
    "for value in range(1 , 11):\n",
    "    squares = value ** 2\n",
    "    squares.append(square)\n",
    "print(squares)"
   ]
  },
  {
   "cell_type": "markdown",
   "metadata": {},
   "source": [
    "## list comprehensive\n",
    "\n",
    "for item in item list\n",
    "    loops_body\n",
    "\n",
    "\n",
    "## comprehensive style\n",
    "\n",
    "[loops_body for item in item list]\n",
    "    \n"
   ]
  },
  {
   "cell_type": "code",
   "execution_count": 1,
   "metadata": {},
   "outputs": [
    {
     "data": {
      "text/plain": [
       "[1, 2, 3, 4, 5, 6, 7, 8, 9, 10]"
      ]
     },
     "execution_count": 1,
     "metadata": {},
     "output_type": "execute_result"
    }
   ],
   "source": [
    "list(range(1,11))\n"
   ]
  },
  {
   "cell_type": "code",
   "execution_count": 3,
   "metadata": {},
   "outputs": [
    {
     "name": "stdout",
     "output_type": "stream",
     "text": [
      "1\n",
      "4\n",
      "9\n",
      "16\n",
      "25\n",
      "36\n",
      "49\n",
      "64\n",
      "81\n",
      "100\n"
     ]
    }
   ],
   "source": [
    "for i in range(1,11):\n",
    "    print (i**2)\n"
   ]
  },
  {
   "cell_type": "code",
   "execution_count": 6,
   "metadata": {},
   "outputs": [
    {
     "data": {
      "text/plain": [
       "[1, 4, 9, 16, 25, 36, 49, 64, 81, 100]"
      ]
     },
     "execution_count": 6,
     "metadata": {},
     "output_type": "execute_result"
    }
   ],
   "source": [
    "[i**2 for i in range (1, 11)]"
   ]
  },
  {
   "cell_type": "code",
   "execution_count": 10,
   "metadata": {},
   "outputs": [
    {
     "name": "stdout",
     "output_type": "stream",
     "text": [
      "[1, 2, 3, 4, 5, 6, 7, 8, 9, 0]\n",
      "9\n",
      "0\n",
      "45\n"
     ]
    }
   ],
   "source": [
    "digits : list [int] = [1, 2, 3, 4, 5, 6, 7, 8, 9, 0]\n",
    "print (digits)\n",
    "print (max(digits))\n",
    "print (min(digits))\n",
    "print (sum(digits))\n"
   ]
  },
  {
   "cell_type": "code",
   "execution_count": 14,
   "metadata": {},
   "outputs": [
    {
     "name": "stdout",
     "output_type": "stream",
     "text": [
      "['pizza', 'falafel', 'carrot cake']\n",
      "['pizza', 'falafel', 'carrot cake']\n",
      "['pizza', 'falafel', 'carrot cake']\n",
      "['tikka', 'falafel', 'carrot cake']\n"
     ]
    }
   ],
   "source": [
    "my_foods = [\"pizza\", \"falafel\", \"carrot cake\"]\n",
    "friends_foods = my_foods[:]\n",
    "\n",
    "print(my_foods)\n",
    "print(friends_foods)\n",
    "\n",
    "friends_foods [0] = \"tikka\"\n",
    "\n",
    "print(my_foods)\n",
    "print(friends_foods)"
   ]
  },
  {
   "cell_type": "markdown",
   "metadata": {},
   "source": [
    "## Tuples"
   ]
  },
  {
   "cell_type": "code",
   "execution_count": 20,
   "metadata": {},
   "outputs": [
    {
     "name": "stdout",
     "output_type": "stream",
     "text": [
      "A\n"
     ]
    }
   ],
   "source": [
    "names : tuple[str] = (\"A\", \"B\", \"C\")\n",
    "print(names[0])"
   ]
  },
  {
   "cell_type": "code",
   "execution_count": 21,
   "metadata": {},
   "outputs": [
    {
     "name": "stdout",
     "output_type": "stream",
     "text": [
      "('A', 'B')\n"
     ]
    }
   ],
   "source": [
    "names : tuple[str] = (\"A\", \"B\", \"C\")\n",
    "print(names[0:2])"
   ]
  },
  {
   "cell_type": "code",
   "execution_count": 27,
   "metadata": {},
   "outputs": [
    {
     "name": "stdout",
     "output_type": "stream",
     "text": [
      "('pakistan', 'B', 'C')\n"
     ]
    }
   ],
   "source": [
    "names : tuple[str] = (\"A\", \"B\", \"C\")\n",
    "\n",
    "names : tuple[str] = (\"pakistan\", \"B\", \"C\")\n",
    "\n",
    "print(names)\n"
   ]
  },
  {
   "cell_type": "code",
   "execution_count": 28,
   "metadata": {},
   "outputs": [
    {
     "name": "stdout",
     "output_type": "stream",
     "text": [
      "('A', [1, 2, 3], True)\n"
     ]
    }
   ],
   "source": [
    "from typing import Any\n",
    "\n",
    "data : tuple [Any] = (\"A\", [1,2,3], True)\n",
    "print(data)"
   ]
  },
  {
   "cell_type": "code",
   "execution_count": 37,
   "metadata": {},
   "outputs": [
    {
     "name": "stdout",
     "output_type": "stream",
     "text": [
      "[1, 2, 3]\n",
      "('A', [1, 2, 3, 20], True)\n"
     ]
    }
   ],
   "source": [
    "data : tuple [Any] = (\"A\", [1,2,3], True)\n",
    "\n",
    "print(data[1])\n",
    "data[1].append(20)\n",
    "print(data)"
   ]
  },
  {
   "cell_type": "code",
   "execution_count": 2,
   "metadata": {},
   "outputs": [
    {
     "name": "stdout",
     "output_type": "stream",
     "text": [
      "\u001b[34mprince\n",
      "\u001b[31mprince\n",
      "\u001b[32mprince\n",
      "\u001b[30mprince\n",
      "\u001b[33mprince\n",
      "\u001b[36mprince\n",
      "\u001b[37mprince\n"
     ]
    }
   ],
   "source": [
    "from colorama import Fore\n",
    "\n",
    "print(Fore.BLUE + \"prince\")\n",
    "print(Fore.RED + \"prince\")\n",
    "print(Fore.GREEN + \"prince\")\n",
    "print(Fore.BLACK + \"prince\")\n",
    "print(Fore.YELLOW + \"prince\")\n",
    "print(Fore.CYAN + \"prince\")\n",
    "print(Fore.WHITE + \"prince\")"
   ]
  }
 ],
 "metadata": {
  "kernelspec": {
   "display_name": "base",
   "language": "python",
   "name": "python3"
  },
  "language_info": {
   "codemirror_mode": {
    "name": "ipython",
    "version": 3
   },
   "file_extension": ".py",
   "mimetype": "text/x-python",
   "name": "python",
   "nbconvert_exporter": "python",
   "pygments_lexer": "ipython3",
   "version": "3.11.5"
  }
 },
 "nbformat": 4,
 "nbformat_minor": 2
}
