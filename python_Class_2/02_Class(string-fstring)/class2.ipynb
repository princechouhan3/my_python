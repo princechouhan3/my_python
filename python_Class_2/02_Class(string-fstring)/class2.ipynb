{
 "cells": [
  {
   "cell_type": "markdown",
   "metadata": {},
   "source": [
    "## String data type in python"
   ]
  },
  {
   "cell_type": "code",
   "execution_count": 1,
   "metadata": {},
   "outputs": [
    {
     "name": "stdout",
     "output_type": "stream",
     "text": [
      "<class 'str'>\n",
      "Prince Chouhan\n"
     ]
    }
   ],
   "source": [
    "name : str = \"Prince Chouhan\"\n",
    "print(type(name))\n",
    "print(name)"
   ]
  },
  {
   "cell_type": "code",
   "execution_count": 2,
   "metadata": {},
   "outputs": [
    {
     "name": "stdout",
     "output_type": "stream",
     "text": [
      "<class 'str'>\n",
      "Prince Chouhan\n"
     ]
    }
   ],
   "source": [
    "name : str = 'Prince Chouhan'\n",
    "print(type(name))\n",
    "print(name)"
   ]
  },
  {
   "cell_type": "code",
   "execution_count": 3,
   "metadata": {},
   "outputs": [
    {
     "name": "stdout",
     "output_type": "stream",
     "text": [
      "PIAIC student card \n",
      " fathers's name\n"
     ]
    }
   ],
   "source": [
    "message : str = \"PIAIC student card \\n fathers's name\"\n",
    "print(message)"
   ]
  },
  {
   "cell_type": "code",
   "execution_count": 4,
   "metadata": {},
   "outputs": [
    {
     "name": "stdout",
     "output_type": "stream",
     "text": [
      "PIAIC \"student card\"\n",
      " father name\n"
     ]
    }
   ],
   "source": [
    "message : str = 'PIAIC \"student card\"\\n father name'\n",
    "print(message)"
   ]
  },
  {
   "cell_type": "code",
   "execution_count": 5,
   "metadata": {},
   "outputs": [
    {
     "name": "stdout",
     "output_type": "stream",
     "text": [
      "PIAIC student card\n",
      " father's name\n"
     ]
    }
   ],
   "source": [
    "message : str = 'PIAIC student card\\n father\\'s name'\n",
    "print(message)"
   ]
  },
  {
   "cell_type": "code",
   "execution_count": 6,
   "metadata": {},
   "outputs": [
    {
     "name": "stdout",
     "output_type": "stream",
     "text": [
      "PIAIC student card:\n",
      "Student name:Prince Chouhan\n",
      "Age:19\n",
      "Education: Intermediate\n"
     ]
    }
   ],
   "source": [
    "name : str = \"Prince Chouhan\"\n",
    "father_name : str = \"Parvez Chouhan\"\n",
    "education : str = 'Intermediate'\n",
    "age : int = 19 \n",
    "\n",
    "card : str = \"PIAIC student card:\\nStudent name:\" + name +\\\n",
    "\"\\nAge:\" + str(age)+ \"\\n\" +\\\n",
    "\"Education: \" + education\n",
    "\n",
    "\n",
    "print(card)"
   ]
  },
  {
   "cell_type": "markdown",
   "metadata": {},
   "source": [
    "# Define Multiline String \"\"\" \"\"\" , '''  '''"
   ]
  },
  {
   "cell_type": "code",
   "execution_count": 7,
   "metadata": {},
   "outputs": [
    {
     "name": "stdout",
     "output_type": "stream",
     "text": [
      "\n",
      "PIAIC Student Card\n",
      "Student Name : .....\n",
      "Father Name : .....\n",
      "Age : .....\n",
      "Education : .....\n",
      "\n"
     ]
    }
   ],
   "source": [
    "name : str = \"Prince Chouhan\"\n",
    "father_name : str = \"Parvez Chouhan\"\n",
    "education : str = 'Imtermediate'\n",
    "age : int = 19 \n",
    "\n",
    "card : str = \"\"\"\n",
    "PIAIC Student Card\n",
    "Student Name : .....\n",
    "Father Name : .....\n",
    "Age : .....\n",
    "Education : .....\n",
    "\"\"\"\n",
    "\n",
    "print (card)"
   ]
  },
  {
   "cell_type": "markdown",
   "metadata": {},
   "source": [
    "# f-string python"
   ]
  },
  {
   "cell_type": "code",
   "execution_count": 8,
   "metadata": {},
   "outputs": [
    {
     "name": "stdout",
     "output_type": "stream",
     "text": [
      "\n",
      "PIAIC Student Card\n",
      "Student Name : Parvez Chouhan \n",
      "Father's Name : Prince Chouhan\n",
      "Age : Intermediate\n",
      "Education : 19\n",
      "\n",
      "\n",
      "\n"
     ]
    }
   ],
   "source": [
    "name : str = \"Prince Chouhan\"\n",
    "father_name : str = \"Parvez Chouhan\"\n",
    "education : str = 'Intermediate'\n",
    "age : int = 19 \n",
    "\n",
    "card : str = \"\"\"\n",
    "PIAIC Student Card\n",
    "Student Name : {} \n",
    "Father's Name : {}\n",
    "Age : {}\n",
    "Education : {}\n",
    "\n",
    "\n",
    "\"\"\".format (father_name, name, education, age)\n",
    "\n",
    "print (card)"
   ]
  },
  {
   "cell_type": "code",
   "execution_count": 9,
   "metadata": {},
   "outputs": [
    {
     "name": "stdout",
     "output_type": "stream",
     "text": [
      "\n",
      "PIAIC Student Card\n",
      "Student Name : Prince Chouhan \n",
      "Father's Name : Parvez Chouhan\n",
      "Age : 19\n",
      "Education : Intermediate\n",
      "\n",
      "\n",
      "\n"
     ]
    }
   ],
   "source": [
    "name : str = \"Prince Chouhan\"\n",
    "father_name : str = \"Parvez Chouhan\"\n",
    "education : str = 'Intermediate'\n",
    "age : int = 19 \n",
    "\n",
    "card : str = \"\"\"\n",
    "PIAIC Student Card\n",
    "Student Name : {1} \n",
    "Father's Name : {0}\n",
    "Age : {3}\n",
    "Education : {2}\n",
    "\n",
    "\n",
    "\"\"\".format (father_name, name, education, age)\n",
    "\n",
    "print (card)"
   ]
  },
  {
   "cell_type": "code",
   "execution_count": 10,
   "metadata": {},
   "outputs": [
    {
     "name": "stdout",
     "output_type": "stream",
     "text": [
      "\n",
      "PIAIC Student Card\n",
      "Student Name : Prince Chouhan \n",
      "Father's Name : Parvez Chouhan\n",
      "Age : 19\n",
      "Education : Imtermediate\n",
      "\n",
      "\n",
      "\n"
     ]
    }
   ],
   "source": [
    "name : str = \"Prince Chouhan\"\n",
    "father_name : str = \"Parvez Chouhan\"\n",
    "age : int = 19 \n",
    "education : str = 'Imtermediate'\n",
    "\n",
    "card : str = \"\"\"\n",
    "PIAIC Student Card\n",
    "Student Name : {a} \n",
    "Father's Name : {b}\n",
    "Age : {c}\n",
    "Education : {d}\n",
    "\n",
    "\n",
    "\"\"\".format (a=name, b=father_name, c=age, d=education)\n",
    "\n",
    "print (card)"
   ]
  },
  {
   "cell_type": "code",
   "execution_count": 11,
   "metadata": {},
   "outputs": [
    {
     "name": "stdout",
     "output_type": "stream",
     "text": [
      "\n",
      "PIAIC Student Card\n",
      "Student Name : Prince Chouhan\n",
      "Father's Name : Parvez Chouhan\n",
      "Age : 19\n",
      "Education : Imtermediate\n",
      "\n",
      "\n",
      "\n"
     ]
    }
   ],
   "source": [
    "name : str = \"Prince Chouhan\"\n",
    "father_name : str = \"Parvez Chouhan\"\n",
    "education : str = 'Imtermediate'\n",
    "age : int = 19 \n",
    "\n",
    "card : str = f\"\"\"\n",
    "PIAIC Student Card\n",
    "Student Name : %s\n",
    "Father's Name : %s\n",
    "Age : %d\n",
    "Education : %s\n",
    "\n",
    "\n",
    "\"\"\" % (name, father_name, age, education)\n",
    "\n",
    "print (card)\n",
    "\n",
    "## Fstring and jinja style"
   ]
  },
  {
   "cell_type": "code",
   "execution_count": 12,
   "metadata": {},
   "outputs": [
    {
     "data": {
      "text/plain": [
       "'\\nStudent Name : Prince Chouhan\\n'"
      ]
     },
     "execution_count": 12,
     "metadata": {},
     "output_type": "execute_result"
    }
   ],
   "source": [
    "f\"\"\"\n",
    "Student Name : {name}\n",
    "\"\"\""
   ]
  },
  {
   "cell_type": "code",
   "execution_count": 13,
   "metadata": {},
   "outputs": [
    {
     "name": "stdout",
     "output_type": "stream",
     "text": [
      "my name is prince\n",
      "18\n"
     ]
    }
   ],
   "source": [
    "student_code : str = \"\"\"\n",
    "print(\"my name is prince\")\n",
    "a : int = 9\n",
    "b : int = 9\n",
    "print (a+b)\n",
    "\"\"\"\n",
    "\n",
    "exec(student_code)"
   ]
  },
  {
   "cell_type": "markdown",
   "metadata": {},
   "source": [
    "## Explore string methods and attributes\n",
    "\n",
    "pre-define global functions we have used\n",
    "\n",
    "* print\n",
    "* type\n",
    "* id \n",
    "* dir\n",
    "* len\n"
   ]
  },
  {
   "cell_type": "code",
   "execution_count": 14,
   "metadata": {},
   "outputs": [
    {
     "name": "stdout",
     "output_type": "stream",
     "text": [
      "['capitalize', 'casefold', 'center', 'count', 'encode', 'endswith', 'expandtabs', 'find', 'format', 'format_map', 'index', 'isalnum', 'isalpha', 'isascii', 'isdecimal', 'isdigit', 'isidentifier', 'islower', 'isnumeric', 'isprintable', 'isspace', 'istitle', 'isupper', 'join', 'ljust', 'lower', 'lstrip', 'maketrans', 'partition', 'removeprefix', 'removesuffix', 'replace', 'rfind', 'rindex', 'rjust', 'rpartition', 'rsplit', 'rstrip', 'split', 'splitlines', 'startswith', 'strip', 'swapcase', 'title', 'translate', 'upper', 'zfill']\n",
      "47\n"
     ]
    }
   ],
   "source": [
    "a : [str] = [i for i in dir(str) if \"__\" not in i]\n",
    "print (a)\n",
    "print(len(a))"
   ]
  },
  {
   "cell_type": "code",
   "execution_count": 15,
   "metadata": {},
   "outputs": [
    {
     "data": {
      "text/plain": [
       "'         prince chouhan         '"
      ]
     },
     "metadata": {},
     "output_type": "display_data"
    },
    {
     "data": {
      "text/plain": [
       "'prince chouhan         '"
      ]
     },
     "metadata": {},
     "output_type": "display_data"
    }
   ],
   "source": [
    "name : str = \"         prince chouhan         \"\n",
    "display(name)\n",
    "display(name.lstrip())"
   ]
  },
  {
   "cell_type": "code",
   "execution_count": 16,
   "metadata": {},
   "outputs": [
    {
     "data": {
      "text/plain": [
       "'         prince chouhan         '"
      ]
     },
     "metadata": {},
     "output_type": "display_data"
    },
    {
     "data": {
      "text/plain": [
       "'         prince chouhan'"
      ]
     },
     "metadata": {},
     "output_type": "display_data"
    }
   ],
   "source": [
    "name : str = \"         prince chouhan         \"\n",
    "display(name)\n",
    "display(name.rstrip())"
   ]
  },
  {
   "cell_type": "code",
   "execution_count": 17,
   "metadata": {},
   "outputs": [
    {
     "data": {
      "text/plain": [
       "'         prince chouhan         '"
      ]
     },
     "metadata": {},
     "output_type": "display_data"
    },
    {
     "data": {
      "text/plain": [
       "'prince chouhan'"
      ]
     },
     "metadata": {},
     "output_type": "display_data"
    }
   ],
   "source": [
    "name : str = \"         prince chouhan         \"\n",
    "display(name)\n",
    "display(name.strip())"
   ]
  },
  {
   "cell_type": "code",
   "execution_count": 18,
   "metadata": {},
   "outputs": [
    {
     "data": {
      "text/plain": [
       "'         prince         chouhan         '"
      ]
     },
     "metadata": {},
     "output_type": "display_data"
    },
    {
     "data": {
      "text/plain": [
       "'prince chouhan'"
      ]
     },
     "metadata": {},
     "output_type": "display_data"
    }
   ],
   "source": [
    "import re\n",
    "\n",
    "name : str = \"         prince         chouhan         \"\n",
    "\n",
    "display(name)\n",
    "name1 : str = re.sub(\" {2,100}\", ' ',name).strip()\n",
    "\n",
    "display(name1)"
   ]
  },
  {
   "cell_type": "code",
   "execution_count": 19,
   "metadata": {},
   "outputs": [
    {
     "data": {
      "text/plain": [
       "'prince chouhan'"
      ]
     },
     "metadata": {},
     "output_type": "display_data"
    },
    {
     "data": {
      "text/plain": [
       "'Prince Chouhan'"
      ]
     },
     "metadata": {},
     "output_type": "display_data"
    }
   ],
   "source": [
    "name : str = \"prince chouhan\"\n",
    "display(name)\n",
    "display(name.title())"
   ]
  },
  {
   "cell_type": "code",
   "execution_count": 20,
   "metadata": {},
   "outputs": [
    {
     "name": "stdout",
     "output_type": "stream",
     "text": [
      "PRINCE CHOUHAN\n",
      "prince chouhan\n"
     ]
    }
   ],
   "source": [
    "name : str = \"prince chouhan\"\n",
    "print(name.upper())\n",
    "print(name.lower())"
   ]
  },
  {
   "cell_type": "code",
   "execution_count": 21,
   "metadata": {},
   "outputs": [
    {
     "name": "stdout",
     "output_type": "stream",
     "text": [
      "Prince Chouhan\n"
     ]
    }
   ],
   "source": [
    "first_name = \"Prince\"\n",
    "Last_name = \"Chouhan\"\n",
    "full_name = f\"{first_name} {Last_name}\"\n",
    "print(full_name)"
   ]
  },
  {
   "cell_type": "code",
   "execution_count": 22,
   "metadata": {},
   "outputs": [],
   "source": [
    "print = (\"Name:\\t\\t Prince chouhan \")\n"
   ]
  },
  {
   "cell_type": "code",
   "execution_count": 23,
   "metadata": {},
   "outputs": [],
   "source": [
    "print = (\"Name:\\n Prince chouhan \")"
   ]
  },
  {
   "cell_type": "code",
   "execution_count": 24,
   "metadata": {},
   "outputs": [],
   "source": [
    "print = (\"Name:\\b Prince chouhan \")"
   ]
  },
  {
   "cell_type": "code",
   "execution_count": 25,
   "metadata": {},
   "outputs": [
    {
     "data": {
      "text/plain": [
       "'nonstarch.com'"
      ]
     },
     "execution_count": 25,
     "metadata": {},
     "output_type": "execute_result"
    }
   ],
   "source": [
    "nonstrach_url:str = 'http://nonstarch.com'\n",
    "nonstrach_url.removeprefix('http://')"
   ]
  },
  {
   "cell_type": "code",
   "execution_count": 31,
   "metadata": {},
   "outputs": [
    {
     "ename": "TypeError",
     "evalue": "'str' object is not callable",
     "output_type": "error",
     "traceback": [
      "\u001b[1;31m---------------------------------------------------------------------------\u001b[0m",
      "\u001b[1;31mTypeError\u001b[0m                                 Traceback (most recent call last)",
      "Cell \u001b[1;32mIn[31], line 2\u001b[0m\n\u001b[0;32m      1\u001b[0m piaic_student_name : \u001b[38;5;28mstr\u001b[39m \u001b[38;5;241m=\u001b[39m \u001b[38;5;124m\"\u001b[39m\u001b[38;5;124mPrince Chouhan\u001b[39m\u001b[38;5;124m\"\u001b[39m\n\u001b[1;32m----> 2\u001b[0m \u001b[38;5;28;43mprint\u001b[39;49m\u001b[43m(\u001b[49m\u001b[43mpiaic_student_name\u001b[49m\u001b[43m)\u001b[49m \n",
      "\u001b[1;31mTypeError\u001b[0m: 'str' object is not callable"
     ]
    }
   ],
   "source": [
    "piaic_student_name : str = \"Prince Chouhan\"\n",
    "print(piaic_student_name) "
   ]
  }
 ],
 "metadata": {
  "kernelspec": {
   "display_name": "Python 3",
   "language": "python",
   "name": "python3"
  },
  "language_info": {
   "codemirror_mode": {
    "name": "ipython",
    "version": 3
   },
   "file_extension": ".py",
   "mimetype": "text/x-python",
   "name": "python",
   "nbconvert_exporter": "python",
   "pygments_lexer": "ipython3",
   "version": "3.12.5"
  }
 },
 "nbformat": 4,
 "nbformat_minor": 2
}
