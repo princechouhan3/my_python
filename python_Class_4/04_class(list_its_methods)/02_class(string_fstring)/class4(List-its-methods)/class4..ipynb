{
 "cells": [
  {
   "cell_type": "code",
   "execution_count": 1,
   "metadata": {},
   "outputs": [],
   "source": [
    "name1 : str = \"prince\"\n",
    "name2 : str = \"dhuruv\"\n",
    "name3 : str = \"taha\"\n",
    "name4 : str = \"rafay\""
   ]
  },
  {
   "cell_type": "markdown",
   "metadata": {},
   "source": [
    "## list\n",
    "* varaibles `names[start,end,step]`\n",
    "* dynamic lenght \n",
    "* hytrogenous data type\n",
    "* index\n",
    "     *positive 0 to n-1\n",
    "     *negative -1 to lenght\n",
    "* slicing\n",
    "     * start : include\n",
    "     * end : n-1\n",
    "     * step : sequance\n"
   ]
  },
  {
   "cell_type": "code",
   "execution_count": 7,
   "metadata": {},
   "outputs": [
    {
     "name": "stdout",
     "output_type": "stream",
     "text": [
      "prince\n",
      "prince\n",
      "dhuruv\n",
      "dhuruv\n",
      "taha\n",
      "taha\n",
      "rafay\n",
      "rafay\n"
     ]
    }
   ],
   "source": [
    "# ->         0         1        2       3\n",
    "names = [\"prince\", \"dhuruv\", \"taha\", \"rafay\"]\n",
    "# <-        -4       -3         -2       -1\n",
    "\n",
    "print(names[(0)])\n",
    "print(names[(-4)])\n",
    "print(names[(1)])\n",
    "print(names[(-3)])\n",
    "print(names[(2)])\n",
    "print(names[(-2)])\n",
    "print(names[(3)])\n",
    "print(names[(-1)])"
   ]
  },
  {
   "cell_type": "code",
   "execution_count": 1,
   "metadata": {},
   "outputs": [
    {
     "name": "stdout",
     "output_type": "stream",
     "text": [
      "<class 'str'>\n",
      "<class 'list'>\n",
      "Mr karachi PRINCE\n"
     ]
    }
   ],
   "source": [
    "from typing import Any\n",
    "\n",
    "# ->                     0          1        2        3\n",
    "names : list [any] = [\"prince\", \"dhuruv\", \"taha\", \"rafay\"]\n",
    "# <-                     -4        -3      -2         -1\n",
    "\n",
    "print(type(names[-4]))\n",
    "print(type(names))\n",
    "print(f\"Mr karachi {names[-4].upper()}\")"
   ]
  },
  {
   "cell_type": "code",
   "execution_count": 2,
   "metadata": {},
   "outputs": [
    {
     "name": "stdout",
     "output_type": "stream",
     "text": [
      "<class 'str'>\n",
      "<class 'list'>\n",
      "Mr karachi PRINCE\n"
     ]
    }
   ],
   "source": [
    "from typing import Any\n",
    "\n",
    "# ->                     0          1        2        3\n",
    "names : list [any] = [\"prince\", \"dhuruv\", \"taha\", \"rafay\"]\n",
    "# <-                     -4        -3      -2         -1\n",
    "\n",
    "print(type(names[-4]))\n",
    "print(type(names))\n",
    "print(f\"Mr karachi {names[-4].upper()}\")"
   ]
  },
  {
   "cell_type": "code",
   "execution_count": null,
   "metadata": {},
   "outputs": [],
   "source": [
    "characters : list[str] = list(\"ABCDEFGHIJKLMNOPQRSTUVWXYZ\")\n",
    "print(characters)"
   ]
  },
  {
   "cell_type": "code",
   "execution_count": 4,
   "metadata": {},
   "outputs": [
    {
     "name": "stdout",
     "output_type": "stream",
     "text": [
      "['A', 'B']\n",
      "['A', 'B']\n",
      "['A', 'B']\n",
      "['A', 'B']\n",
      "['A', 'B']\n"
     ]
    }
   ],
   "source": [
    "#                      0    1    2    \n",
    "characters : [str] = ['A', 'B', 'C', 'D', 'E', 'F', 'G', 'H', 'I', 'J', 'K', 'L', 'M', 'N', 'O', 'P', 'Q', 'R', 'S', 'T', 'U', 'V', 'W', 'X', 'Y', 'Z']\n",
    "#                    -26    -25  -24                                                                                                                        -1\n",
    "print(characters[0:2])\n",
    "print(characters[:2])\n",
    "print(characters[-26:-24])\n",
    "print(characters[0:2:1])\n",
    "print(characters[0:2:])"
   ]
  },
  {
   "cell_type": "code",
   "execution_count": 5,
   "metadata": {},
   "outputs": [
    {
     "name": "stdout",
     "output_type": "stream",
     "text": [
      "['A', 'B', 'C', 'D', 'E', 'F', 'G', 'H', 'I', 'J', 'K', 'L', 'M', 'N', 'O', 'P', 'Q', 'R', 'S', 'T', 'U', 'V', 'W', 'X', 'Y', 'Z']\n"
     ]
    }
   ],
   "source": [
    "characters : [str] = ['A', 'B', 'C', 'D', 'E', 'F', 'G', 'H', 'I', 'J', 'K', 'L', 'M', 'N', 'O', 'P', 'Q', 'R', 'S', 'T', 'U', 'V', 'W', 'X', 'Y', 'Z']\n",
    "\n",
    "print(characters[ : : ])"
   ]
  },
  {
   "cell_type": "code",
   "execution_count": 3,
   "metadata": {},
   "outputs": [
    {
     "name": "stdout",
     "output_type": "stream",
     "text": [
      "['A', 'B', 'C', 'D', 'E', 'F', 'G', 'H', 'I', 'J', 'K', 'L', 'M', 'N', 'O', 'P', 'Q', 'R', 'S', 'T', 'U', 'V', 'W', 'X', 'Y', 'Z']\n"
     ]
    }
   ],
   "source": [
    "characters : [str] = ['A', 'B', 'C', 'D', 'E', 'F', 'G', 'H', 'I', 'J', 'K', 'L', 'M', 'N', 'O', 'P', 'Q', 'R', 'S', 'T', 'U', 'V', 'W', 'X', 'Y', 'Z']\n",
    "\n",
    "print(characters[ : : ])"
   ]
  },
  {
   "cell_type": "code",
   "execution_count": 7,
   "metadata": {},
   "outputs": [
    {
     "name": "stdout",
     "output_type": "stream",
     "text": [
      "['A', 'C', 'E', 'G', 'I', 'K', 'M', 'O', 'Q', 'S', 'U', 'W', 'Y']\n"
     ]
    }
   ],
   "source": [
    "characters : [str] = ['A', 'B', 'C', 'D', 'E', 'F', 'G', 'H', 'I', 'J', 'K', 'L', 'M', 'N', 'O', 'P', 'Q', 'R', 'S', 'T', 'U', 'V', 'W', 'X', 'Y', 'Z']\n",
    "\n",
    "print(characters[ : : 2 ])"
   ]
  },
  {
   "cell_type": "code",
   "execution_count": 8,
   "metadata": {},
   "outputs": [
    {
     "name": "stdout",
     "output_type": "stream",
     "text": [
      "['Z', 'Y', 'X', 'W', 'V', 'U', 'T', 'S', 'R', 'Q', 'P', 'O', 'N', 'M', 'L', 'K', 'J', 'I', 'H', 'G', 'F', 'E', 'D', 'C', 'B', 'A']\n"
     ]
    }
   ],
   "source": [
    "characters : [str] = ['A', 'B', 'C', 'D', 'E', 'F', 'G', 'H', 'I', 'J', 'K', 'L', 'M', 'N', 'O', 'P', 'Q', 'R', 'S', 'T', 'U', 'V', 'W', 'X', 'Y', 'Z']\n",
    "\n",
    "print(characters[: : -1])"
   ]
  },
  {
   "cell_type": "code",
   "execution_count": 8,
   "metadata": {},
   "outputs": [
    {
     "name": "stdout",
     "output_type": "stream",
     "text": [
      "['Z', 'X', 'V', 'T', 'R', 'P', 'N', 'L', 'J', 'H', 'F', 'D', 'B']\n"
     ]
    }
   ],
   "source": [
    "characters : [str] = ['A', 'B', 'C', 'D', 'E', 'F', 'G', 'H', 'I', 'J', 'K', 'L', 'M', 'N', 'O', 'P', 'Q', 'R', 'S', 'T', 'U', 'V', 'W', 'X', 'Y', 'Z']\n",
    "\n",
    "print(characters[: : -2])"
   ]
  },
  {
   "cell_type": "code",
   "execution_count": 12,
   "metadata": {},
   "outputs": [
    {
     "name": "stdout",
     "output_type": "stream",
     "text": [
      "['B', 'C', 'D', 'E']\n"
     ]
    }
   ],
   "source": [
    "#                      0     1    2    3    4    5    6    7\n",
    "characters : [str] = ['A', 'B', 'C', 'D', 'E', 'F', 'G', 'H']\n",
    "#                     -8   -7   -6   -5   -4   -3   -2   -1 \n",
    "\n",
    "print(characters[1:-3])"
   ]
  },
  {
   "cell_type": "code",
   "execution_count": 2,
   "metadata": {},
   "outputs": [
    {
     "name": "stdout",
     "output_type": "stream",
     "text": [
      "['G', 'F', 'E']\n"
     ]
    }
   ],
   "source": [
    "#                      0     1    2    3    4    5    6    7\n",
    "characters : [str] = ['A', 'B', 'C', 'D', 'E', 'F', 'G', 'H']\n",
    "#                     -8   -7   -6   -5   -4   -3   -2   -1 \n",
    "\n",
    "print(characters[-2:-5:-1])"
   ]
  },
  {
   "cell_type": "markdown",
   "metadata": {},
   "source": [
    "## List Methods"
   ]
  },
  {
   "cell_type": "code",
   "execution_count": 28,
   "metadata": {},
   "outputs": [
    {
     "data": {
      "text/plain": [
       "['__add__',\n",
       " '__class__',\n",
       " '__class_getitem__',\n",
       " '__contains__',\n",
       " '__delattr__',\n",
       " '__delitem__',\n",
       " '__dir__',\n",
       " '__doc__',\n",
       " '__eq__',\n",
       " '__format__',\n",
       " '__ge__',\n",
       " '__getattribute__',\n",
       " '__getitem__',\n",
       " '__getstate__',\n",
       " '__gt__',\n",
       " '__hash__',\n",
       " '__iadd__',\n",
       " '__imul__',\n",
       " '__init__',\n",
       " '__init_subclass__',\n",
       " '__iter__',\n",
       " '__le__',\n",
       " '__len__',\n",
       " '__lt__',\n",
       " '__mul__',\n",
       " '__ne__',\n",
       " '__new__',\n",
       " '__reduce__',\n",
       " '__reduce_ex__',\n",
       " '__repr__',\n",
       " '__reversed__',\n",
       " '__rmul__',\n",
       " '__setattr__',\n",
       " '__setitem__',\n",
       " '__sizeof__',\n",
       " '__str__',\n",
       " '__subclasshook__',\n",
       " 'append',\n",
       " 'clear',\n",
       " 'copy',\n",
       " 'count',\n",
       " 'extend',\n",
       " 'index',\n",
       " 'insert',\n",
       " 'pop',\n",
       " 'remove',\n",
       " 'reverse',\n",
       " 'sort']"
      ]
     },
     "execution_count": 28,
     "metadata": {},
     "output_type": "execute_result"
    }
   ],
   "source": [
    "[i for i in dir(list) if \"___\" not in i ]"
   ]
  },
  {
   "cell_type": "code",
   "execution_count": 55,
   "metadata": {},
   "outputs": [
    {
     "name": "stdout",
     "output_type": "stream",
     "text": [
      "[]\n"
     ]
    }
   ],
   "source": [
    "a : list[str] = ['a', 'b', 'c', 'd']\n",
    "a.clear()\n",
    "print(a)"
   ]
  },
  {
   "cell_type": "markdown",
   "metadata": {},
   "source": [
    "# Help\n",
    "* help(object)\n",
    "* object? \n",
    "* object??\n",
    "* ?object\n",
    "* ??object \n"
   ]
  },
  {
   "cell_type": "code",
   "execution_count": null,
   "metadata": {},
   "outputs": [],
   "source": []
  },
  {
   "cell_type": "code",
   "execution_count": 35,
   "metadata": {},
   "outputs": [
    {
     "name": "stdout",
     "output_type": "stream",
     "text": [
      "Help on built-in function print in module builtins:\n",
      "\n",
      "print(*args, sep=' ', end='\\n', file=None, flush=False)\n",
      "    Prints the values to a stream, or to sys.stdout by default.\n",
      "    \n",
      "    sep\n",
      "      string inserted between values, default a space.\n",
      "    end\n",
      "      string appended after the last value, default a newline.\n",
      "    file\n",
      "      a file-like object (stream); defaults to the current sys.stdout.\n",
      "    flush\n",
      "      whether to forcibly flush the stream.\n",
      "\n"
     ]
    }
   ],
   "source": [
    "help(print)"
   ]
  },
  {
   "cell_type": "code",
   "execution_count": 20,
   "metadata": {},
   "outputs": [
    {
     "name": "stdout",
     "output_type": "stream",
     "text": [
      "['prince', 'dhuruv', 'taha', 'rafay', 100, True]\n",
      "['prince chouhan', 'dhuruv', 'taha', 'rafay', 100, True]\n"
     ]
    }
   ],
   "source": [
    "\n",
    "# ->                     0          1        2        3\n",
    "names : list [any] = [\"prince\", \"dhuruv\", \"taha\", \"rafay\", 100, True]\n",
    "print(names)\n",
    "# <-                     -4        -3      -2         -1\n",
    "\n",
    "names[0] = \"prince chouhan\"\n",
    "print(names)\n"
   ]
  },
  {
   "cell_type": "code",
   "execution_count": 21,
   "metadata": {},
   "outputs": [
    {
     "name": "stdout",
     "output_type": "stream",
     "text": [
      "['prince', 'dhuruv', 'taha', 'rafay', 100, True]\n",
      "['prince', 'dhuruv', 'taha', 'rafay', True]\n"
     ]
    }
   ],
   "source": [
    "\n",
    "# ->                     0          1        2        3\n",
    "names : list [any] = [\"prince\", \"dhuruv\", \"taha\", \"rafay\", 100, True]\n",
    "print(names)\n",
    "# <-                     -4        -3      -2         -1\n",
    "del names[4] \n",
    "print(names)\n"
   ]
  },
  {
   "cell_type": "code",
   "execution_count": 25,
   "metadata": {},
   "outputs": [
    {
     "data": {
      "text/plain": [
       "'pakistan'"
      ]
     },
     "metadata": {},
     "output_type": "display_data"
    }
   ],
   "source": [
    "a : str = (\"pakistan\") # non return function\n",
    "display(a)"
   ]
  },
  {
   "cell_type": "code",
   "execution_count": 27,
   "metadata": {},
   "outputs": [
    {
     "data": {
      "text/plain": [
       "2039518069632"
      ]
     },
     "metadata": {},
     "output_type": "display_data"
    }
   ],
   "source": [
    "a : str = id(names) # return fuction\n",
    "display(a)"
   ]
  },
  {
   "cell_type": "markdown",
   "metadata": {},
   "source": [
    "## Pop Method"
   ]
  },
  {
   "cell_type": "code",
   "execution_count": 42,
   "metadata": {},
   "outputs": [
    {
     "name": "stdout",
     "output_type": "stream",
     "text": [
      "['prince', 'dhuruv', 'taha', 'rafay', 100, True]\n",
      "100\n",
      "['prince', 'dhuruv', 'taha', 'rafay', True]\n"
     ]
    }
   ],
   "source": [
    "\n",
    "# ->                     0          1        2        3\n",
    "names : list [any] = [\"prince\", \"dhuruv\", \"taha\", \"rafay\", 100, True]\n",
    "print(names)\n",
    "# <-                     -4        -3      -2         -1\n",
    "\n",
    "a : str = names.pop(4)\n",
    "print(a)\n",
    "print(names)"
   ]
  },
  {
   "cell_type": "markdown",
   "metadata": {},
   "source": [
    "## append method add element in last "
   ]
  },
  {
   "cell_type": "code",
   "execution_count": 47,
   "metadata": {},
   "outputs": [
    {
     "name": "stdout",
     "output_type": "stream",
     "text": [
      "['a , b', 'razak', 200, 'abc']\n"
     ]
    }
   ],
   "source": [
    "names : list[str] = [\"a , b\"] \n",
    "\n",
    "names.append(\"razak\")\n",
    "names.append(200)\n",
    "names.append(\"abc\")\n",
    "\n",
    "print(names)"
   ]
  },
  {
   "cell_type": "code",
   "execution_count": 53,
   "metadata": {},
   "outputs": [
    {
     "name": "stdout",
     "output_type": "stream",
     "text": [
      "['a', 'b', 'c', 'd']\n",
      "['a', 'b', 'c', 'd', 'e']\n"
     ]
    }
   ],
   "source": [
    "names : list[str] = ['a' , 'b' , 'c' , 'd']\n",
    "\n",
    "print(names)\n",
    "names.insert(4, \"e\")\n",
    "print(names)"
   ]
  },
  {
   "cell_type": "code",
   "execution_count": 58,
   "metadata": {},
   "outputs": [
    {
     "name": "stdout",
     "output_type": "stream",
     "text": [
      "['a', 'b', 'c']\n",
      "['a', 'b', 'c']\n"
     ]
    }
   ],
   "source": [
    "# copy\n",
    "\n",
    "a : list[str] = ['a','b','c']\n",
    "\n",
    "b=a\n",
    "print(a)\n",
    "print(b)"
   ]
  },
  {
   "cell_type": "code",
   "execution_count": 62,
   "metadata": {},
   "outputs": [
    {
     "name": "stdout",
     "output_type": "stream",
     "text": [
      "['a', 'b', 'c']\n",
      "['a', 'b', 'c']\n",
      "['pakistan', 'b', 'c']\n",
      "['pakistan', 'b', 'c']\n"
     ]
    }
   ],
   "source": [
    "a : list[str] = ['a','b','c']\n",
    "\n",
    "b=a\n",
    "print(a)\n",
    "print(b)\n",
    "\n",
    "b[0] = \"pakistan\" # change only b variable but both updatedprint(a)\n",
    "\n",
    "\n",
    "\n",
    "print(a)\n",
    "print(b)"
   ]
  },
  {
   "cell_type": "code",
   "execution_count": 64,
   "metadata": {},
   "outputs": [
    {
     "name": "stdout",
     "output_type": "stream",
     "text": [
      "a ['a', 'b', 'c']\n",
      "b ['a', 'b', 'c']\n",
      "a ['a', 'b', 'c']\n",
      "b ['pakistan', 'b', 'c']\n"
     ]
    }
   ],
   "source": [
    "a : list[str] = ['a','b','c']\n",
    "\n",
    "b = a.copy() #deep copy\n",
    "print(\"a\",a)\n",
    "print(\"b\",b)\n",
    "\n",
    "b[0] = \"pakistan\" # change only b variable but both updatedprint(a)\n",
    "\n",
    "\n",
    "\n",
    "print(\"a\",a)\n",
    "print(\"b\",b)"
   ]
  },
  {
   "cell_type": "code",
   "execution_count": 70,
   "metadata": {},
   "outputs": [
    {
     "name": "stdout",
     "output_type": "stream",
     "text": [
      "3\n",
      "2\n",
      "1\n"
     ]
    }
   ],
   "source": [
    "# count\n",
    "\n",
    "names : list[str] = ['a', 'a', 'a', 'b', 'c', 'c']\n",
    "print(names.count(\"a\"))\n",
    "print(names.count(\"c\"))\n",
    "print(names.count(\"b\"))"
   ]
  },
  {
   "cell_type": "code",
   "execution_count": 81,
   "metadata": {},
   "outputs": [
    {
     "name": "stdout",
     "output_type": "stream",
     "text": [
      "['prince', 'rafay', ['rafiq', 'razak']]\n"
     ]
    }
   ],
   "source": [
    "# extend\n",
    "\n",
    "names : list[str] = [\"prince\", \"rafay\"] # pro gymmers\n",
    "\n",
    "new_faculaty_members : list[str] = ['rafiq', \"razak\"]\n",
    "\n",
    "names.append(new_faculaty_members)\n",
    "\n",
    "print(names)\n"
   ]
  },
  {
   "cell_type": "code",
   "execution_count": 82,
   "metadata": {},
   "outputs": [
    {
     "name": "stdout",
     "output_type": "stream",
     "text": [
      "['prince', 'rafay', 'rafiq', 'razak']\n"
     ]
    }
   ],
   "source": [
    "\n",
    "# extend\n",
    "\n",
    "names : list[str] = [\"prince\", \"rafay\"] # pro gymmers\n",
    "\n",
    "new_faculaty_members : list[str] = ['rafiq', \"razak\"]\n",
    "\n",
    "names.extend(new_faculaty_members)\n",
    "\n",
    "print(names)\n"
   ]
  },
  {
   "cell_type": "code",
   "execution_count": 84,
   "metadata": {},
   "outputs": [
    {
     "name": "stdout",
     "output_type": "stream",
     "text": [
      "['prince', 'rafay', 'razak']\n"
     ]
    }
   ],
   "source": [
    "# remove\n",
    "\n",
    "names : list[str] = ['prince', 'rafay', 'rafiq', 'razak']\n",
    "names.remove(\"rafiq\") # remove with text value\n",
    "print(names)\n",
    "\n",
    "\n"
   ]
  },
  {
   "cell_type": "code",
   "execution_count": 86,
   "metadata": {},
   "outputs": [
    {
     "data": {
      "text/plain": [
       "2"
      ]
     },
     "execution_count": 86,
     "metadata": {},
     "output_type": "execute_result"
    }
   ],
   "source": [
    "# index\n",
    "names : list[str] = ['prince', 'rafay', 'rafiq', 'razak']\n",
    "names.index(\"rafiq\") # remove with text value\n"
   ]
  },
  {
   "cell_type": "code",
   "execution_count": 91,
   "metadata": {},
   "outputs": [
    {
     "data": {
      "text/plain": [
       "4"
      ]
     },
     "execution_count": 91,
     "metadata": {},
     "output_type": "execute_result"
    }
   ],
   "source": [
    "names : list[str] = ['prince', 'rafay', 'rafiq', 'razak', 'prince']\n",
    "names.index(\"prince\",1)"
   ]
  },
  {
   "cell_type": "code",
   "execution_count": 95,
   "metadata": {},
   "outputs": [
    {
     "name": "stdout",
     "output_type": "stream",
     "text": [
      "['A', 'B', 'C', 'D']\n",
      "['D', 'C', 'B', 'A']\n"
     ]
    }
   ],
   "source": [
    "# reverse\n",
    "names : list[str] = list(\"ABCD\")\n",
    "\n",
    "print(names)\n",
    "names.reverse()\n",
    "print(names)\n"
   ]
  },
  {
   "cell_type": "code",
   "execution_count": 96,
   "metadata": {},
   "outputs": [
    {
     "name": "stdout",
     "output_type": "stream",
     "text": [
      "['A', 'B', 'C', 'D']\n",
      "['A', 'B', 'C', 'D']\n"
     ]
    }
   ],
   "source": [
    "#sort\n",
    "names : list[str] = list(\"ABCD\")\n",
    "\n",
    "print(names)\n",
    "names.sort()\n",
    "print(names)"
   ]
  },
  {
   "cell_type": "code",
   "execution_count": 97,
   "metadata": {},
   "outputs": [
    {
     "name": "stdout",
     "output_type": "stream",
     "text": [
      "['A', 'B', 'C', 'D']\n",
      "['D', 'C', 'B', 'A']\n"
     ]
    }
   ],
   "source": [
    "# pakistani jugaar \n",
    "print(names)\n",
    "names.sort(reverse=True)\n",
    "print(names)"
   ]
  }
 ],
 "metadata": {
  "kernelspec": {
   "display_name": "base",
   "language": "python",
   "name": "python3"
  },
  "language_info": {
   "codemirror_mode": {
    "name": "ipython",
    "version": 3
   },
   "file_extension": ".py",
   "mimetype": "text/x-python",
   "name": "python",
   "nbconvert_exporter": "python",
   "pygments_lexer": "ipython3",
   "version": "3.11.5"
  }
 },
 "nbformat": 4,
 "nbformat_minor": 2
}
